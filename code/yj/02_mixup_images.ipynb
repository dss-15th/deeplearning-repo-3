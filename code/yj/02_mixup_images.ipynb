{
 "metadata": {
  "language_info": {
   "codemirror_mode": {
    "name": "ipython",
    "version": 3
   },
   "file_extension": ".py",
   "mimetype": "text/x-python",
   "name": "python",
   "nbconvert_exporter": "python",
   "pygments_lexer": "ipython3",
   "version": "3.8.3-final"
  },
  "orig_nbformat": 2,
  "kernelspec": {
   "name": "conda",
   "display_name": "yeji",
   "language": "python"
  }
 },
 "nbformat": 4,
 "nbformat_minor": 2,
 "cells": [
  {
   "cell_type": "code",
   "execution_count": 27,
   "metadata": {},
   "outputs": [],
   "source": [
    "import cv2\n",
    "import glob"
   ]
  },
  {
   "cell_type": "code",
   "execution_count": 17,
   "metadata": {},
   "outputs": [],
   "source": [
    "# sample testing of code before real train data\n",
    "\n",
    "orig = cv2.imread('./xmlfile/01_01.jpg', cv2.IMREAD_COLOR)\n",
    "sample = cv2.imread('./man-with-dogs.jpg', cv2.IMREAD_COLOR)"
   ]
  },
  {
   "cell_type": "code",
   "execution_count": 18,
   "metadata": {},
   "outputs": [
    {
     "output_type": "stream",
     "name": "stdout",
     "text": [
      "(1080, 1920, 3)\n(638, 960, 3)\n"
     ]
    }
   ],
   "source": [
    "print(orig.shape)\n",
    "print(sample.shape)"
   ]
  },
  {
   "cell_type": "code",
   "execution_count": 20,
   "metadata": {},
   "outputs": [
    {
     "output_type": "stream",
     "name": "stdout",
     "text": [
      "(1080, 1920, 3)\n"
     ]
    }
   ],
   "source": [
    "dim = (1920, 1080)\n",
    "sample = cv2.resize(sample, dim, interpolation=cv2.INTER_AREA)\n",
    "print(sample.shape)"
   ]
  },
  {
   "cell_type": "code",
   "execution_count": 25,
   "metadata": {},
   "outputs": [
    {
     "output_type": "execute_result",
     "data": {
      "text/plain": [
       "True"
      ]
     },
     "metadata": {},
     "execution_count": 25
    }
   ],
   "source": [
    "blend = cv2.addWeighted(sample, 0.6, orig,0.8, 0.0)\n",
    "cv2.imwrite('blended.jpg', blend)"
   ]
  },
  {
   "cell_type": "code",
   "execution_count": null,
   "metadata": {},
   "outputs": [],
   "source": []
  },
  {
   "cell_type": "code",
   "execution_count": null,
   "metadata": {},
   "outputs": [],
   "source": []
  },
  {
   "source": [
    "#### first mixup oo_o4.jpg"
   ],
   "cell_type": "markdown",
   "metadata": {}
  },
  {
   "cell_type": "code",
   "execution_count": 30,
   "metadata": {},
   "outputs": [],
   "source": [
    "import cv2\n",
    "import glob"
   ]
  },
  {
   "cell_type": "code",
   "execution_count": 31,
   "metadata": {},
   "outputs": [],
   "source": [
    "# read .jpg files that end with number 4 (my own pattern to mix up images)\n",
    "images = [cv2.imread(file, cv2.IMREAD_COLOR) for file in glob.glob('./xmlfile/*4.jpg')]\n",
    "sample = cv2.imread('./man-with-dogs.jpg', cv2.IMREAD_COLOR)"
   ]
  },
  {
   "cell_type": "code",
   "execution_count": 32,
   "metadata": {},
   "outputs": [],
   "source": [
    "# shape of original train data\n",
    "dim = (1920, 1080)\n",
    "sample = cv2.resize(sample, dim, interpolation=cv2.INTER_AREA)"
   ]
  },
  {
   "cell_type": "code",
   "execution_count": 33,
   "metadata": {},
   "outputs": [],
   "source": [
    "# get each file number of train frames\n",
    "file_list = glob.glob('./xmlfile/*4.jpg')\n",
    "file_no = [each_file.split('\\\\')[-1].split('.')[0] for each_file in file_list]"
   ]
  },
  {
   "cell_type": "code",
   "execution_count": 34,
   "metadata": {},
   "outputs": [],
   "source": [
    "# blend sample image and train frame and save as .jpg\n",
    "i = 0\n",
    "for each in images:\n",
    "    blend = (cv2.addWeighted(sample, 0.6, each, 0.8, 0.0))\n",
    "    cv2.imwrite('./xmlfile/blended_{}.jpg'.format(file_no[i]), blend)\n",
    "    i += 1"
   ]
  },
  {
   "source": [
    "#### second mixup oo_o3.jpg"
   ],
   "cell_type": "markdown",
   "metadata": {}
  },
  {
   "cell_type": "code",
   "execution_count": 35,
   "metadata": {},
   "outputs": [],
   "source": [
    "file_list = glob.glob('./xmlfile/*3.jpg')\n",
    "file_no = [each_file.split('\\\\')[-1].split('.')[0] for each_file in file_list]\n",
    "\n",
    "images = [cv2.imread(file, cv2.IMREAD_COLOR) for file in file_list]\n",
    "sample = cv2.imread('./mqdefault.jpg', cv2.IMREAD_COLOR)\n",
    "\n",
    "dim = (1920, 1080)\n",
    "sample = cv2.resize(sample, dim, interpolation=cv2.INTER_AREA)\n",
    "\n",
    "i = 0\n",
    "for each in images:\n",
    "    blend = (cv2.addWeighted(sample, 0.6, each, 0.8, 0.0))\n",
    "    cv2.imwrite('./xmlfile/blended_{}.jpg'.format(file_no[i]), blend)\n",
    "    i += 1"
   ]
  },
  {
   "source": [
    "#### third mixup oo_o2.jpg"
   ],
   "cell_type": "markdown",
   "metadata": {}
  },
  {
   "cell_type": "code",
   "execution_count": 36,
   "metadata": {},
   "outputs": [],
   "source": [
    "file_list = glob.glob('./xmlfile/*2.jpg')\n",
    "file_no = [each_file.split('\\\\')[-1].split('.')[0] for each_file in file_list]\n",
    "\n",
    "images = [cv2.imread(file, cv2.IMREAD_COLOR) for file in file_list]\n",
    "sample = cv2.imread('./Image - sample.jpg', cv2.IMREAD_COLOR)\n",
    "\n",
    "dim = (1920, 1080)\n",
    "sample = cv2.resize(sample, dim, interpolation=cv2.INTER_AREA)\n",
    "\n",
    "i = 0\n",
    "for each in images:\n",
    "    blend = (cv2.addWeighted(sample, 0.6, each, 0.8, 0.0))\n",
    "    cv2.imwrite('./xmlfile/blended_{}.jpg'.format(file_no[i]), blend)\n",
    "    i += 1"
   ]
  },
  {
   "source": [
    "#### fourth mixup oo_o1.jpg"
   ],
   "cell_type": "markdown",
   "metadata": {}
  },
  {
   "cell_type": "code",
   "execution_count": 37,
   "metadata": {},
   "outputs": [],
   "source": [
    "file_list = glob.glob('./xmlfile/*1.jpg')\n",
    "file_no = [each_file.split('\\\\')[-1].split('.')[0] for each_file in file_list]\n",
    "\n",
    "images = [cv2.imread(file, cv2.IMREAD_COLOR) for file in file_list]\n",
    "sample = cv2.imread('./gettyimages-1058070380-612x612.jpg', cv2.IMREAD_COLOR)\n",
    "\n",
    "dim = (1920, 1080)\n",
    "sample = cv2.resize(sample, dim, interpolation=cv2.INTER_AREA)\n",
    "\n",
    "i = 0\n",
    "for each in images:\n",
    "    blend = (cv2.addWeighted(sample, 0.6, each, 0.8, 0.0))\n",
    "    cv2.imwrite('./xmlfile/blended_{}.jpg'.format(file_no[i]), blend)\n",
    "    i += 1"
   ]
  },
  {
   "source": [
    "#### fifth mixup oo_o5.jpg"
   ],
   "cell_type": "markdown",
   "metadata": {}
  },
  {
   "cell_type": "code",
   "execution_count": 38,
   "metadata": {},
   "outputs": [],
   "source": [
    "file_list = glob.glob('./xmlfile/*5.jpg')\n",
    "file_no = [each_file.split('\\\\')[-1].split('.')[0] for each_file in file_list]\n",
    "\n",
    "images = [cv2.imread(file, cv2.IMREAD_COLOR) for file in file_list]\n",
    "sample = cv2.imread('./b6d40a2d69acd1ccf617573951f3e71d.jpg', cv2.IMREAD_COLOR)\n",
    "\n",
    "dim = (1920, 1080)\n",
    "sample = cv2.resize(sample, dim, interpolation=cv2.INTER_AREA)\n",
    "\n",
    "i = 0\n",
    "for each in images:\n",
    "    blend = (cv2.addWeighted(sample, 0.6, each, 0.8, 0.0))\n",
    "    cv2.imwrite('./xmlfile/blended_{}.jpg'.format(file_no[i]), blend)\n",
    "    i += 1"
   ]
  },
  {
   "cell_type": "code",
   "execution_count": null,
   "metadata": {},
   "outputs": [],
   "source": []
  }
 ]
}
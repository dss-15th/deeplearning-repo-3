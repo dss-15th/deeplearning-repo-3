{
  "nbformat": 4,
  "nbformat_minor": 0,
  "metadata": {
    "colab": {
      "name": "imgaug_V-box_class2.ipynb",
      "provenance": [],
      "machine_shape": "hm"
    },
    "kernelspec": {
      "name": "python3",
      "display_name": "Python 3"
    },
    "accelerator": "GPU"
  },
  "cells": [
    {
      "cell_type": "code",
      "metadata": {
        "colab": {
          "base_uri": "https://localhost:8080/"
        },
        "id": "Z422V7A15QrF",
        "outputId": "621e244c-8229-48f9-b71e-ba295247cb1a"
      },
      "source": [
        "from google.colab import drive\n",
        "drive.mount('/content/gdrive')"
      ],
      "execution_count": null,
      "outputs": [
        {
          "output_type": "stream",
          "text": [
            "Mounted at /content/gdrive\n"
          ],
          "name": "stdout"
        }
      ]
    },
    {
      "cell_type": "code",
      "metadata": {
        "id": "b-lZtcJJ5YSl"
      },
      "source": [
        "import xml.etree.ElementTree as ET\n",
        "\n",
        "def read_anntation(xml_file: str):\n",
        "    tree = ET.parse(xml_file)\n",
        "    root = tree.getroot()\n",
        "\n",
        "    bounding_box_list = []\n",
        "\n",
        "    file_name = root.find('filename').text\n",
        "    for obj in root.iter('object'):\n",
        "\n",
        "        object_label = obj.find(\"name\").text\n",
        "        for box in obj.findall(\"bndbox\"):\n",
        "            x_min = int(box.find(\"xmin\").text)\n",
        "            y_min = int(box.find(\"ymin\").text)\n",
        "            x_max = int(box.find(\"xmax\").text)\n",
        "            y_max = int(box.find(\"ymax\").text)\n",
        "\n",
        "        bounding_box = [object_label, x_min, y_min, x_max, y_max]\n",
        "        bounding_box_list.append(bounding_box)\n",
        "\n",
        "    return bounding_box_list, file_name"
      ],
      "execution_count": null,
      "outputs": []
    },
    {
      "cell_type": "code",
      "metadata": {
        "id": "oD6ZGaPw5heB"
      },
      "source": [
        "from os import listdir\n",
        "import cv2\n",
        "import numpy as np\n",
        "\n",
        "def read_train_dataset(dir):\n",
        "    images = []\n",
        "    annotations = []\n",
        "\n",
        "    for file in listdir(dir):\n",
        "        if 'jpg' in file.lower() or 'png' in file.lower():\n",
        "            images.append(cv2.imread(dir + file, 1))\n",
        "            annotation_file = file.replace(file.split('.')[-1], 'xml')\n",
        "            bounding_box_list, file_name = read_anntation(dir + annotation_file)\n",
        "            annotations.append((bounding_box_list, annotation_file, file_name))\n",
        "\n",
        "    images = np.array(images)\n",
        "\n",
        "    return images, annotations"
      ],
      "execution_count": null,
      "outputs": []
    },
    {
      "cell_type": "code",
      "metadata": {
        "colab": {
          "base_uri": "https://localhost:8080/"
        },
        "id": "H7_HxEKF-PAx",
        "outputId": "6e663f64-db69-4f8f-bb90-6c8c3c988e16"
      },
      "source": [
        "!pip install files"
      ],
      "execution_count": null,
      "outputs": [
        {
          "output_type": "stream",
          "text": [
            "Collecting files\n",
            "  Downloading https://files.pythonhosted.org/packages/d3/b0/ddfcb3c51ad496bf665d80d3465d8c274592d70312558627c803107e7d7d/files-1.1.1.tar.gz\n",
            "Building wheels for collected packages: files\n",
            "  Building wheel for files (setup.py) ... \u001b[?25l\u001b[?25hdone\n",
            "  Created wheel for files: filename=files-1.1.1-cp36-none-any.whl size=3671 sha256=b89da0414f80698f0f22af3d48e28e78312d3b2579949c427ed7d8705174a9f0\n",
            "  Stored in directory: /root/.cache/pip/wheels/2f/b7/02/31aeb19506812ddfcf90210ea4f9f645fd5688f28dc312683b\n",
            "Successfully built files\n",
            "Installing collected packages: files\n",
            "Successfully installed files-1.1.1\n"
          ],
          "name": "stdout"
        }
      ]
    },
    {
      "cell_type": "code",
      "metadata": {
        "colab": {
          "base_uri": "https://localhost:8080/"
        },
        "id": "XfNOhfIv-T8o",
        "outputId": "61c3d2e8-5d09-478d-b9de-d31cd8f532bc"
      },
      "source": [
        "!pip install pascal-voc-writer"
      ],
      "execution_count": null,
      "outputs": [
        {
          "output_type": "stream",
          "text": [
            "Collecting pascal-voc-writer\n",
            "  Downloading https://files.pythonhosted.org/packages/9d/82/dd86999e6062fc34478f11ead7a68e6615d7e270b39624547edd1dbaba76/pascal_voc_writer-0.1.4-py2.py3-none-any.whl\n",
            "Requirement already satisfied: jinja2 in /usr/local/lib/python3.6/dist-packages (from pascal-voc-writer) (2.11.2)\n",
            "Requirement already satisfied: MarkupSafe>=0.23 in /usr/local/lib/python3.6/dist-packages (from jinja2->pascal-voc-writer) (1.1.1)\n",
            "Installing collected packages: pascal-voc-writer\n",
            "Successfully installed pascal-voc-writer-0.1.4\n"
          ],
          "name": "stdout"
        }
      ]
    },
    {
      "cell_type": "code",
      "metadata": {
        "id": "CU4hkfoZHkVW"
      },
      "source": [
        "import imgaug as ia\n",
        "from imgaug import augmenters as iaa\n",
        "from files import *\n",
        "from pascal_voc_writer import Writer\n",
        "\n",
        "ia.seed(1)\n",
        "\n",
        "dir = '/content/gdrive/MyDrive/darknet/bin/darknet/trial3(dummy)/dummy/'\n",
        "images, annotations = read_train_dataset(dir)\n",
        "\n",
        "for idx in range(len(images)):\n",
        "    image = images[idx]\n",
        "    boxes = annotations[idx][0]\n",
        "\n",
        "    ia_bounding_boxes = []\n",
        "    for box in boxes:\n",
        "        ia_bounding_boxes.append(ia.BoundingBox(x1=box[1], y1=box[2], x2=box[3], y2=box[4]))\n",
        "\n",
        "    bbs = ia.BoundingBoxesOnImage(ia_bounding_boxes, shape=image.shape)\n",
        "\n",
        "    seq = iaa.Sequential([\n",
        "        iaa.Fliplr(1.0),\n",
        "        iaa.Sometimes(\n",
        "        0.5,\n",
        "        iaa.GaussianBlur(sigma=(0, 0.5))\n",
        "    )\n",
        "\n",
        "    ])\n",
        "\n",
        "    seq_det = seq.to_deterministic()\n",
        "\n",
        "    image_aug = seq_det.augment_images([image])[0]\n",
        "    bbs_aug = seq_det.augment_bounding_boxes([bbs])[0]\n",
        "\n",
        "    new_image_file = \"/content/gdrive/MyDrive/darknet/bin/darknet/trial3(dummy)/after_reverse_blur/\" + 'after_reverse_' + annotations[idx][2]\n",
        "    cv2.imwrite(new_image_file, image_aug)\n",
        "\n",
        "    h, w = np.shape(image_aug)[0:2]\n",
        "    voc_writer = Writer(new_image_file, w, h)\n",
        "\n",
        "    for i in range(len(bbs_aug.bounding_boxes)):\n",
        "        bb_box = bbs_aug.bounding_boxes[i]\n",
        "        voc_writer.addObject(boxes[i][0], int(bb_box.x1), int(bb_box.y1), int(bb_box.x2), int(bb_box.y2))\n",
        "\n",
        "    voc_writer.save(\"/content/gdrive/MyDrive/darknet/bin/darknet/trial3(dummy)/after_reverse_blur/\" + 'after_reverse_' + annotations[idx][1])"
      ],
      "execution_count": null,
      "outputs": []
    },
    {
      "cell_type": "code",
      "metadata": {
        "id": "EWMQeN8l-Kce"
      },
      "source": [
        "import imgaug as ia\n",
        "ia.seed(1)\n",
        "# imgaug uses matplotlib backend for displaying images\n",
        "%matplotlib inline\n",
        "from imgaug.augmentables.bbs import BoundingBox, BoundingBoxesOnImage\n",
        "from imgaug import augmenters as iaa \n",
        "# imageio library will be used for image input/output\n",
        "import imageio\n",
        "import pandas as pd\n",
        "import numpy as np\n",
        "import re\n",
        "import os\n",
        "import glob\n",
        "# this library is needed to read XML files for converting it into CSV\n",
        "import xml.etree.ElementTree as ET\n",
        "import shutil"
      ],
      "execution_count": null,
      "outputs": []
    },
    {
      "cell_type": "code",
      "metadata": {
        "id": "YFdRbafjbg0H"
      },
      "source": [
        "# Function that will extract column data for our CSV file as pandas DataFrame\n",
        "def xml_to_csv(path):\n",
        "    xml_list = []\n",
        "    for xml_file in glob.glob(path + '/*.xml'):\n",
        "        tree = ET.parse(xml_file)\n",
        "        root = tree.getroot()\n",
        "        for member in root.findall('object'):\n",
        "            try:\n",
        "                value = (root.find('filename').text,\n",
        "                         int(root.find('size')[0].text),\n",
        "                         int(root.find('size')[1].text),\n",
        "                         member[0].text,\n",
        "                         int(member[4][0].text),\n",
        "                         int(member[4][1].text),\n",
        "                         int(member[4][2].text),\n",
        "                         int(member[4][3].text)\n",
        "                         )\n",
        "                xml_list.append(value)\n",
        "            except:\n",
        "                pass\n",
        "    column_name = ['filename', 'width', 'height', 'class', 'xmin', 'ymin', 'xmax', 'ymax']\n",
        "    xml_df = pd.DataFrame(xml_list, columns=column_name)\n",
        "    return xml_df\n",
        "   \n",
        "# apply the function to convert all XML files in images/ folder into labels.csv\n",
        "labels_df = xml_to_csv('/content/gdrive/MyDrive/darknet/bin/darknet/trial3(dummy)/dummy')\n",
        "# labels_df.to_csv('labels.txt', index=False, header=None, sep=\"\\t\")"
      ],
      "execution_count": null,
      "outputs": []
    },
    {
      "cell_type": "code",
      "metadata": {
        "id": "rHgvlDL-btH0"
      },
      "source": [
        "labels_df.to_csv('/content/gdrive/MyDrive/darknet/bin/darknet/trial3(dummy)/dummy/labels.txt', index=False, header=None, sep=\"\\t\")"
      ],
      "execution_count": null,
      "outputs": []
    },
    {
      "cell_type": "code",
      "metadata": {
        "colab": {
          "base_uri": "https://localhost:8080/",
          "height": 204
        },
        "id": "FCeISLN6b1GL",
        "outputId": "04181491-56c2-448f-ce03-a3ee1d8e7ea1"
      },
      "source": [
        "labels_df.head()"
      ],
      "execution_count": null,
      "outputs": [
        {
          "output_type": "execute_result",
          "data": {
            "text/html": [
              "<div>\n",
              "<style scoped>\n",
              "    .dataframe tbody tr th:only-of-type {\n",
              "        vertical-align: middle;\n",
              "    }\n",
              "\n",
              "    .dataframe tbody tr th {\n",
              "        vertical-align: top;\n",
              "    }\n",
              "\n",
              "    .dataframe thead th {\n",
              "        text-align: right;\n",
              "    }\n",
              "</style>\n",
              "<table border=\"1\" class=\"dataframe\">\n",
              "  <thead>\n",
              "    <tr style=\"text-align: right;\">\n",
              "      <th></th>\n",
              "      <th>filename</th>\n",
              "      <th>width</th>\n",
              "      <th>height</th>\n",
              "      <th>class</th>\n",
              "      <th>xmin</th>\n",
              "      <th>ymin</th>\n",
              "      <th>xmax</th>\n",
              "      <th>ymax</th>\n",
              "    </tr>\n",
              "  </thead>\n",
              "  <tbody>\n",
              "    <tr>\n",
              "      <th>0</th>\n",
              "      <td>10001.jpg</td>\n",
              "      <td>1920</td>\n",
              "      <td>1080</td>\n",
              "      <td>person1</td>\n",
              "      <td>1072</td>\n",
              "      <td>1</td>\n",
              "      <td>1163</td>\n",
              "      <td>190</td>\n",
              "    </tr>\n",
              "    <tr>\n",
              "      <th>1</th>\n",
              "      <td>10002.jpg</td>\n",
              "      <td>1920</td>\n",
              "      <td>1080</td>\n",
              "      <td>person1</td>\n",
              "      <td>1074</td>\n",
              "      <td>1</td>\n",
              "      <td>1156</td>\n",
              "      <td>188</td>\n",
              "    </tr>\n",
              "    <tr>\n",
              "      <th>2</th>\n",
              "      <td>10003.jpg</td>\n",
              "      <td>1920</td>\n",
              "      <td>1080</td>\n",
              "      <td>person1</td>\n",
              "      <td>982</td>\n",
              "      <td>31</td>\n",
              "      <td>1011</td>\n",
              "      <td>192</td>\n",
              "    </tr>\n",
              "    <tr>\n",
              "      <th>3</th>\n",
              "      <td>10004.jpg</td>\n",
              "      <td>1920</td>\n",
              "      <td>1080</td>\n",
              "      <td>person1</td>\n",
              "      <td>874</td>\n",
              "      <td>90</td>\n",
              "      <td>933</td>\n",
              "      <td>310</td>\n",
              "    </tr>\n",
              "    <tr>\n",
              "      <th>4</th>\n",
              "      <td>10005.jpg</td>\n",
              "      <td>1920</td>\n",
              "      <td>1080</td>\n",
              "      <td>person1</td>\n",
              "      <td>715</td>\n",
              "      <td>147</td>\n",
              "      <td>828</td>\n",
              "      <td>409</td>\n",
              "    </tr>\n",
              "  </tbody>\n",
              "</table>\n",
              "</div>"
            ],
            "text/plain": [
              "    filename  width  height    class  xmin  ymin  xmax  ymax\n",
              "0  10001.jpg   1920    1080  person1  1072     1  1163   190\n",
              "1  10002.jpg   1920    1080  person1  1074     1  1156   188\n",
              "2  10003.jpg   1920    1080  person1   982    31  1011   192\n",
              "3  10004.jpg   1920    1080  person1   874    90   933   310\n",
              "4  10005.jpg   1920    1080  person1   715   147   828   409"
            ]
          },
          "metadata": {
            "tags": []
          },
          "execution_count": 67
        }
      ]
    },
    {
      "cell_type": "code",
      "metadata": {
        "id": "gjTZIunQdADG"
      },
      "source": [
        "num = (labels_df['xmin'] + labels_df['xmax']) / 2\n",
        "labels_df['center_x'] = num / labels_df['width']"
      ],
      "execution_count": null,
      "outputs": []
    },
    {
      "cell_type": "code",
      "metadata": {
        "id": "U5NUP8Eyf9r8"
      },
      "source": [
        "num = (labels_df['ymin'] + labels_df['ymax']) / 2\n",
        "labels_df['center_y'] = num / labels_df['height']"
      ],
      "execution_count": null,
      "outputs": []
    },
    {
      "cell_type": "code",
      "metadata": {
        "id": "tIISJ-pqgATo"
      },
      "source": [
        "num = (labels_df['xmax'] - labels_df['xmin'])\n",
        "labels_df['w'] = num / labels_df['width']"
      ],
      "execution_count": null,
      "outputs": []
    },
    {
      "cell_type": "code",
      "metadata": {
        "colab": {
          "base_uri": "https://localhost:8080/",
          "height": 204
        },
        "id": "4oIvwm-bgDA9",
        "outputId": "27e40ee6-a9c0-4bf7-a4c8-7752ab641c58"
      },
      "source": [
        "num = (labels_df['ymax'] - labels_df['ymin'])\n",
        "labels_df['h'] = num / labels_df['height']\n",
        "labels_df.head()"
      ],
      "execution_count": null,
      "outputs": [
        {
          "output_type": "execute_result",
          "data": {
            "text/html": [
              "<div>\n",
              "<style scoped>\n",
              "    .dataframe tbody tr th:only-of-type {\n",
              "        vertical-align: middle;\n",
              "    }\n",
              "\n",
              "    .dataframe tbody tr th {\n",
              "        vertical-align: top;\n",
              "    }\n",
              "\n",
              "    .dataframe thead th {\n",
              "        text-align: right;\n",
              "    }\n",
              "</style>\n",
              "<table border=\"1\" class=\"dataframe\">\n",
              "  <thead>\n",
              "    <tr style=\"text-align: right;\">\n",
              "      <th></th>\n",
              "      <th>filename</th>\n",
              "      <th>width</th>\n",
              "      <th>height</th>\n",
              "      <th>class</th>\n",
              "      <th>xmin</th>\n",
              "      <th>ymin</th>\n",
              "      <th>xmax</th>\n",
              "      <th>ymax</th>\n",
              "      <th>center_x</th>\n",
              "      <th>center_y</th>\n",
              "      <th>w</th>\n",
              "      <th>h</th>\n",
              "    </tr>\n",
              "  </thead>\n",
              "  <tbody>\n",
              "    <tr>\n",
              "      <th>0</th>\n",
              "      <td>10001.jpg</td>\n",
              "      <td>1920</td>\n",
              "      <td>1080</td>\n",
              "      <td>person1</td>\n",
              "      <td>1072</td>\n",
              "      <td>1</td>\n",
              "      <td>1163</td>\n",
              "      <td>190</td>\n",
              "      <td>0.582031</td>\n",
              "      <td>0.088426</td>\n",
              "      <td>0.047396</td>\n",
              "      <td>0.175000</td>\n",
              "    </tr>\n",
              "    <tr>\n",
              "      <th>1</th>\n",
              "      <td>10002.jpg</td>\n",
              "      <td>1920</td>\n",
              "      <td>1080</td>\n",
              "      <td>person1</td>\n",
              "      <td>1074</td>\n",
              "      <td>1</td>\n",
              "      <td>1156</td>\n",
              "      <td>188</td>\n",
              "      <td>0.580729</td>\n",
              "      <td>0.087500</td>\n",
              "      <td>0.042708</td>\n",
              "      <td>0.173148</td>\n",
              "    </tr>\n",
              "    <tr>\n",
              "      <th>2</th>\n",
              "      <td>10003.jpg</td>\n",
              "      <td>1920</td>\n",
              "      <td>1080</td>\n",
              "      <td>person1</td>\n",
              "      <td>982</td>\n",
              "      <td>31</td>\n",
              "      <td>1011</td>\n",
              "      <td>192</td>\n",
              "      <td>0.519010</td>\n",
              "      <td>0.103241</td>\n",
              "      <td>0.015104</td>\n",
              "      <td>0.149074</td>\n",
              "    </tr>\n",
              "    <tr>\n",
              "      <th>3</th>\n",
              "      <td>10004.jpg</td>\n",
              "      <td>1920</td>\n",
              "      <td>1080</td>\n",
              "      <td>person1</td>\n",
              "      <td>874</td>\n",
              "      <td>90</td>\n",
              "      <td>933</td>\n",
              "      <td>310</td>\n",
              "      <td>0.470573</td>\n",
              "      <td>0.185185</td>\n",
              "      <td>0.030729</td>\n",
              "      <td>0.203704</td>\n",
              "    </tr>\n",
              "    <tr>\n",
              "      <th>4</th>\n",
              "      <td>10005.jpg</td>\n",
              "      <td>1920</td>\n",
              "      <td>1080</td>\n",
              "      <td>person1</td>\n",
              "      <td>715</td>\n",
              "      <td>147</td>\n",
              "      <td>828</td>\n",
              "      <td>409</td>\n",
              "      <td>0.401823</td>\n",
              "      <td>0.257407</td>\n",
              "      <td>0.058854</td>\n",
              "      <td>0.242593</td>\n",
              "    </tr>\n",
              "  </tbody>\n",
              "</table>\n",
              "</div>"
            ],
            "text/plain": [
              "    filename  width  height    class  ...  center_x  center_y         w         h\n",
              "0  10001.jpg   1920    1080  person1  ...  0.582031  0.088426  0.047396  0.175000\n",
              "1  10002.jpg   1920    1080  person1  ...  0.580729  0.087500  0.042708  0.173148\n",
              "2  10003.jpg   1920    1080  person1  ...  0.519010  0.103241  0.015104  0.149074\n",
              "3  10004.jpg   1920    1080  person1  ...  0.470573  0.185185  0.030729  0.203704\n",
              "4  10005.jpg   1920    1080  person1  ...  0.401823  0.257407  0.058854  0.242593\n",
              "\n",
              "[5 rows x 12 columns]"
            ]
          },
          "metadata": {
            "tags": []
          },
          "execution_count": 71
        }
      ]
    },
    {
      "cell_type": "code",
      "metadata": {
        "id": "iyYq4mmMgFDw"
      },
      "source": [
        "for idx in range(len(labels_df)):\n",
        "  data = labels_df.iloc[idx]\n",
        "  filename = data['filename'].split('.')[0]\n",
        "  if data['class'] == 'person1':\n",
        "    f = open('/content/gdrive/MyDrive/darknet/bin/darknet/trial3(dummy)/dummy/txt_file/{}.txt'.format(filename), 'a')\n",
        "    wdata = str(\"0 {} {} {} {}\\n\".format(data['center_x'], data['center_y'], data['w'], data['h']))\n",
        "    f.write(wdata)\n",
        "    f.close()\n",
        "  else:\n",
        "    f = open('/content/gdrive/MyDrive/darknet/bin/darknet/trial3(dummy)/dummy/txt_file/{}.txt'.format(filename), 'a')\n",
        "    wdata = str(\"1 {} {} {} {}\".format(data['center_x'], data['center_y'], data['w'], data['h']))\n",
        "    f.write(wdata)\n",
        "    f.close()    "
      ],
      "execution_count": null,
      "outputs": []
    },
    {
      "cell_type": "code",
      "metadata": {
        "id": "502LIdkBgJ5r"
      },
      "source": [
        ""
      ],
      "execution_count": null,
      "outputs": []
    }
  ]
}
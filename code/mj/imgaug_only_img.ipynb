{
  "nbformat": 4,
  "nbformat_minor": 0,
  "metadata": {
    "colab": {
      "name": "imgaug_V-only_img_origin.ipynb",
      "provenance": [],
      "collapsed_sections": [],
      "machine_shape": "hm"
    },
    "kernelspec": {
      "name": "python3",
      "display_name": "Python 3"
    },
    "accelerator": "GPU"
  },
  "cells": [
    {
      "cell_type": "code",
      "metadata": {
        "colab": {
          "base_uri": "https://localhost:8080/"
        },
        "id": "Z422V7A15QrF",
        "outputId": "28dd6f01-e0c7-4f7b-f971-21cf801e0442"
      },
      "source": [
        "from google.colab import drive\n",
        "drive.mount('/content/gdrive')"
      ],
      "execution_count": null,
      "outputs": [
        {
          "output_type": "stream",
          "text": [
            "Mounted at /content/gdrive\n"
          ],
          "name": "stdout"
        }
      ]
    },
    {
      "cell_type": "code",
      "metadata": {
        "id": "a-VRD5a1NYn4"
      },
      "source": [
        "from os import listdir\n",
        "import cv2\n",
        "import numpy as np\n",
        "\n",
        "def read_train_dataset(dir):\n",
        "    images = []\n",
        "    names = []\n",
        "\n",
        "    for file in listdir(dir):\n",
        "        if 'jpg' in file.lower() or 'png' in file.lower():\n",
        "            images.append(cv2.imread(dir + file, 1))\n",
        "            name = file.split('.')[0]\n",
        "            names.append(name)\n",
        "\n",
        "\n",
        "    images = np.array(images)\n",
        "\n",
        "    return images, names"
      ],
      "execution_count": null,
      "outputs": []
    },
    {
      "cell_type": "code",
      "metadata": {
        "colab": {
          "base_uri": "https://localhost:8080/"
        },
        "id": "H7_HxEKF-PAx",
        "outputId": "a2a0cb4a-405a-4c3e-8b7b-f494cab7878b"
      },
      "source": [
        "!pip install files"
      ],
      "execution_count": null,
      "outputs": [
        {
          "output_type": "stream",
          "text": [
            "Collecting files\n",
            "  Downloading https://files.pythonhosted.org/packages/d3/b0/ddfcb3c51ad496bf665d80d3465d8c274592d70312558627c803107e7d7d/files-1.1.1.tar.gz\n",
            "Building wheels for collected packages: files\n",
            "  Building wheel for files (setup.py) ... \u001b[?25l\u001b[?25hdone\n",
            "  Created wheel for files: filename=files-1.1.1-cp36-none-any.whl size=3671 sha256=a669f41c1923f135b690b049600c947ba8d8db07202daee9bad9f750459140d6\n",
            "  Stored in directory: /root/.cache/pip/wheels/2f/b7/02/31aeb19506812ddfcf90210ea4f9f645fd5688f28dc312683b\n",
            "Successfully built files\n",
            "Installing collected packages: files\n",
            "Successfully installed files-1.1.1\n"
          ],
          "name": "stdout"
        }
      ]
    },
    {
      "cell_type": "code",
      "metadata": {
        "id": "3XPNdMl8OmsT"
      },
      "source": [
        "import imgaug as ia\n",
        "from imgaug import augmenters as iaa\n",
        "from files import *\n",
        "\n",
        "\n",
        "ia.seed(1)\n",
        "\n",
        "dir = '/content/gdrive/MyDrive/darknet/bin/darknet/raw_image/01/'\n",
        "images, names = read_train_dataset(dir)\n",
        "\n",
        "for idx in range(len(images)):\n",
        "    image = images[idx]\n",
        "\n",
        "    seq = iaa.Flipud(1.0)\n",
        "\n",
        "    seq_det = seq.to_deterministic()\n",
        "\n",
        "    image_aug = seq_det.augment_images([image])[0]\n",
        "\n",
        "    new_image_file = \"/content/gdrive/MyDrive/darknet/bin/darknet/raw_image/after_image/\" + 'after_1_' + names[idx] + '.jpg'\n",
        "    cv2.imwrite(new_image_file, image_aug)"
      ],
      "execution_count": null,
      "outputs": []
    },
    {
      "cell_type": "code",
      "metadata": {
        "id": "oGOnsDxVU9-4"
      },
      "source": [
        ""
      ],
      "execution_count": null,
      "outputs": []
    }
  ]
}
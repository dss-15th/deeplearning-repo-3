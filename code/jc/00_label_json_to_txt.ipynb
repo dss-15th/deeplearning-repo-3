{
 "cells": [
  {
   "cell_type": "code",
   "execution_count": 90,
   "metadata": {},
   "outputs": [],
   "source": [
    "import os\n",
    "import glob\n",
    "import itertools\n",
    "import json"
   ]
  },
  {
   "cell_type": "code",
   "execution_count": 115,
   "metadata": {},
   "outputs": [
    {
     "data": {
      "text/plain": [
       "['./data/Multi-view_tracking_indoor', './data/Multi-view_tracking_outdoor']"
      ]
     },
     "execution_count": 115,
     "metadata": {},
     "output_type": "execute_result"
    }
   ],
   "source": [
    "inout_dirname"
   ]
  },
  {
   "cell_type": "code",
   "execution_count": 116,
   "metadata": {},
   "outputs": [
    {
     "data": {
      "text/plain": [
       "'./labels/Multi-view_tracking_indoor'"
      ]
     },
     "execution_count": 116,
     "metadata": {},
     "output_type": "execute_result"
    }
   ],
   "source": [
    "tmp = inout_dirname[0].replace('./data', './labels')\n",
    "tmp"
   ]
  },
  {
   "cell_type": "code",
   "execution_count": 107,
   "metadata": {},
   "outputs": [],
   "source": [
    "# 각 디렉토리 모두 탐색 후 경로 리스트 작성\n",
    "inout_dirname = sorted(glob.glob('./data/*'))\n",
    "market_dirname = sorted(itertools.chain(*[glob.glob(dirname + \"/*\") for dirname in inout_dirname]))\n",
    "json_dirname = sorted(itertools.chain(*[glob.glob(dirname + \"/json/1-5/*\") for dirname in market_dirname]))\n",
    "json_filepath = sorted(itertools.chain(*[glob.glob(dirname + \"/*\") for dirname in json_dirname]))"
   ]
  },
  {
   "cell_type": "code",
   "execution_count": 120,
   "metadata": {},
   "outputs": [],
   "source": [
    "# 새로 저장할 폴더 생성\n",
    "for dirname in inout_dirname:\n",
    "    dirname = dirname.replace('./data', './labels')\n",
    "    try:\n",
    "        if not os.path.exists(dirname):\n",
    "            os.makedirs(dirname)\n",
    "    except:\n",
    "        print(\"Error: Failed to create the directory.\")\n",
    "        \n",
    "for dirname in market_dirname:\n",
    "    dirname = dirname.replace('./data', './labels')\n",
    "    try:\n",
    "        if not os.path.exists(dirname):\n",
    "            os.makedirs(dirname)\n",
    "    except:\n",
    "        print(\"Error: Failed to create the directory.\")\n",
    "        \n",
    "for dirname in json_dirname:\n",
    "    dirname = dirname.replace('./data', './labels')\n",
    "    try:\n",
    "        if not os.path.exists(dirname):\n",
    "            os.makedirs(dirname)\n",
    "    except:\n",
    "        print(\"Error: Failed to create the directory.\")"
   ]
  },
  {
   "cell_type": "code",
   "execution_count": 121,
   "metadata": {},
   "outputs": [
    {
     "data": {
      "text/plain": [
       "3443"
      ]
     },
     "execution_count": 121,
     "metadata": {},
     "output_type": "execute_result"
    }
   ],
   "source": [
    "# json 파일 개수 확인\n",
    "len(json_filepath)"
   ]
  },
  {
   "cell_type": "code",
   "execution_count": 122,
   "metadata": {},
   "outputs": [
    {
     "data": {
      "text/plain": [
       "['./data/Multi-view_tracking_indoor/00001_market/json/1-5/01/00001.json',\n",
       " './data/Multi-view_tracking_indoor/00001_market/json/1-5/01/00002.json',\n",
       " './data/Multi-view_tracking_indoor/00001_market/json/1-5/01/00003.json',\n",
       " './data/Multi-view_tracking_indoor/00001_market/json/1-5/01/00004.json',\n",
       " './data/Multi-view_tracking_indoor/00001_market/json/1-5/01/00005.json',\n",
       " './data/Multi-view_tracking_indoor/00001_market/json/1-5/01/00006.json',\n",
       " './data/Multi-view_tracking_indoor/00001_market/json/1-5/01/00007.json',\n",
       " './data/Multi-view_tracking_indoor/00001_market/json/1-5/01/00008.json',\n",
       " './data/Multi-view_tracking_indoor/00001_market/json/1-5/02/00009.json',\n",
       " './data/Multi-view_tracking_indoor/00001_market/json/1-5/02/00010.json']"
      ]
     },
     "execution_count": 122,
     "metadata": {},
     "output_type": "execute_result"
    }
   ],
   "source": [
    "# 경로 확인\n",
    "json_filepath[:10]"
   ]
  },
  {
   "cell_type": "code",
   "execution_count": 142,
   "metadata": {},
   "outputs": [],
   "source": [
    "for filepath in json_filepath:\n",
    "    with open(filepath) as json_file:\n",
    "        # json 파일 로드, 파싱, yolo 좌표값으로변환\n",
    "        json_data = json.load(json_file)\n",
    "        center_x = str((json_data['mark'][0]['coordinates'][1][0] + json_data['mark'][0]['coordinates'][0][0]) / 2)\n",
    "        center_y = str((json_data['mark'][0]['coordinates'][2][1] + json_data['mark'][0]['coordinates'][0][1]) / 2)\n",
    "        w = str(json_data['mark'][0]['coordinates'][1][0] - json_data['mark'][0]['coordinates'][0][0])\n",
    "        h = str(json_data['mark'][0]['coordinates'][2][1] - json_data['mark'][0]['coordinates'][0][1])\n",
    "        \n",
    "        # 좌표값 저장\n",
    "        data = str(\"0 {} {} {} {}\".format(center_x, center_y, w, h))\n",
    "        \n",
    "        # 레이블 텍스트 저장할 경로 설정\n",
    "        label_path = './labels' + filepath[6:-4:] + 'txt'\n",
    "\n",
    "        # 텍스트 쓰기\n",
    "        f = open(label_path, 'w')\n",
    "        f.write(data)\n",
    "        f.close()"
   ]
  }
 ],
 "metadata": {
  "kernelspec": {
   "display_name": "Python 3",
   "language": "python",
   "name": "python3"
  },
  "language_info": {
   "codemirror_mode": {
    "name": "ipython",
    "version": 3
   },
   "file_extension": ".py",
   "mimetype": "text/x-python",
   "name": "python",
   "nbconvert_exporter": "python",
   "pygments_lexer": "ipython3",
   "version": "3.7.9"
  }
 },
 "nbformat": 4,
 "nbformat_minor": 4
}
